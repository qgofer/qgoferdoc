{
 "cells": [
  {
   "cell_type": "code",
   "execution_count": null,
   "metadata": {},
   "outputs": [],
   "source": [
    "#| default_exp search"
   ]
  },
  {
   "cell_type": "code",
   "execution_count": null,
   "metadata": {},
   "outputs": [],
   "source": [
    "#| hide\n",
    "from nbdev.showdoc import *"
   ]
  },
  {
   "cell_type": "code",
   "execution_count": null,
   "metadata": {},
   "outputs": [],
   "source": [
    "#| hide\n",
    "%run 00_core.ipynb\n",
    "%run 01_rake.ipynb"
   ]
  },
  {
   "cell_type": "code",
   "execution_count": null,
   "metadata": {},
   "outputs": [
    {
     "name": "stdout",
     "output_type": "stream",
     "text": [
      "2024-03-24 18:46:04,607 - qgofer - INFO - Logging to C:\\Users\\acqua\\.qgofer\\logs/8R4PyXGWSRmo4xoDXsteAA_log_24_03_24_18_46_04.log\n"
     ]
    }
   ],
   "source": [
    "#| export\n",
    "from pathlib import Path\n",
    "from qgoferutils.config import QGoferConfig\n",
    "from qgoferutils.manage_index import create_index_list, process_index_list, destroy_index_list, create_qgofer_cache"
   ]
  },
  {
   "cell_type": "code",
   "execution_count": null,
   "metadata": {},
   "outputs": [],
   "source": [
    "#| export\n",
    "def initialize_config(home: Path = Path.home(), root_dir: Path = Path.home()) -> QGoferConfig:\n",
    "    \"\"\"\n",
    "    Args:\n",
    "        home: The home directory of the user, defaults to Path.home(). The `home` path is where qgofer config data is stored\n",
    "        root_dir: The root directory to index, defaults to Path.home(). The `root_dir`  is where qgofer searches.\n",
    "    \"\"\"\n",
    "    q = QGoferConfig(home=home, root_dir=root_dir)\n",
    "    return q"
   ]
  },
  {
   "cell_type": "code",
   "execution_count": null,
   "metadata": {},
   "outputs": [],
   "source": [
    "#| export\n",
    "def index_folders(path: Path) -> None:\n",
    "    \"\"\"\n",
    "    Args:\n",
    "        path: The path provided is the patn which should be indexed.\n",
    "    \"\"\"\n",
    "    create_index_list(path)\n",
    "    create_qgofer_cache()\n",
    "    process_index_list()\n",
    "    destroy_index_list()"
   ]
  },
  {
   "cell_type": "code",
   "execution_count": null,
   "metadata": {},
   "outputs": [],
   "source": [
    "#| hide\n",
    "import nbdev; nbdev.nbdev_export()"
   ]
  }
 ],
 "metadata": {
  "kernelspec": {
   "display_name": "python3",
   "language": "python",
   "name": "python3"
  }
 },
 "nbformat": 4,
 "nbformat_minor": 4
}
